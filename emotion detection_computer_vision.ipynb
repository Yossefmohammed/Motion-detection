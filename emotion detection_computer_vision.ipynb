{
 "cells": [
  {
   "cell_type": "code",
   "execution_count": 29,
   "id": "23fff861",
   "metadata": {},
   "outputs": [],
   "source": [
    "#motion detection\n",
    "import cv2 as cv\n",
    "import numpy as np\n",
    "\n"
   ]
  },
  {
   "cell_type": "code",
   "execution_count": 30,
   "id": "f4c16760",
   "metadata": {},
   "outputs": [
    {
     "name": "stdout",
     "output_type": "stream",
     "text": [
      "(1080, 1920, 3)\n"
     ]
    }
   ],
   "source": [
    "cap = cv.VideoCapture(r\"C:\\Users\\youssef\\Videos\\4K Video Downloader+\\background video   people   walking.mp4\")\n",
    "fr_width=int(cap.get(cv.CAP_PROP_FRAME_WIDTH))\n",
    "fr_hieght=int(cap.get(cv.CAP_PROP_FRAME_HEIGHT))\n",
    "fourcc=cv.VideoWriter_fourcc('X','V','I','D')\n",
    "out=cv.VideoWriter('testing.avi',fourcc,30,(1280,720))\n",
    "ret,frame1=cap.read()\n",
    "ret,frame2=cap.read()\n",
    "print(frame1.shape)"
   ]
  },
  {
   "cell_type": "code",
   "execution_count": null,
   "id": "2a368227",
   "metadata": {},
   "outputs": [],
   "source": [
    "while cap.isOpened():\n",
    "    diff=cv.absdiff(frame1,frame2)\n",
    "    gray=cv.cvtColor(diff,cv.COLOR_BGR2GRAY)\n",
    "    blur = cv.GaussianBlur(gray,(5,5),0)\n",
    "    _,thresh=cv.threshold(blur,60,255,cv.THRESH_BINARY)\n",
    "    dilated=cv.dilate(thresh,None,iterations=10)\n",
    "    contours,_=cv.findContours(dilated,cv.RETR_TREE,cv.CHAIN_APPROX_NONE)\n",
    "    \n",
    "    \n",
    "    for contour in contours:\n",
    "        (x,y,w,h)=cv.boundingRect(contour)\n",
    "        \n",
    "        if cv.contourArea(contour)<900:\n",
    "            continue\n",
    "        cv.rectangle(frame1,(x,y),(x+w,y+h),(255,0,0),2)\n",
    "        cv.putText(frame1,\"status:{}\".format('Movment'),(10,20),cv.FONT_HERSHEY_SCRIPT_SIMPLEX,1,(0,0,255),2)\n",
    "    \n",
    "        \n",
    "        \n",
    "    image=cv.resize(frame1,(1280,720))\n",
    "    out.write(image)\n",
    "    cv.imshow(\"motion detection\",frame1)\n",
    "    frame1=frame2\n",
    "    ret,frame2=cap.read()\n",
    "    if cv.waitKey(60)==27:\n",
    "        break\n",
    "cv.destroyAllWindows()\n",
    "cap.release()\n",
    "out.release()\n"
   ]
  }
 ],
 "metadata": {
  "kernelspec": {
   "display_name": "base",
   "language": "python",
   "name": "python3"
  },
  "language_info": {
   "codemirror_mode": {
    "name": "ipython",
    "version": 3
   },
   "file_extension": ".py",
   "mimetype": "text/x-python",
   "name": "python",
   "nbconvert_exporter": "python",
   "pygments_lexer": "ipython3",
   "version": "3.12.4"
  }
 },
 "nbformat": 4,
 "nbformat_minor": 5
}
